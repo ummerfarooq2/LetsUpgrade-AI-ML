{
 "cells": [
  {
   "cell_type": "markdown",
   "metadata": {},
   "source": [
    "# QUESTION\n",
    "\n",
    "__● A sizable department has to be maintained, for the purposes of recruiting new talent \n",
    "  ● More often than not, the new employees have to be trained for the job and/or given time to acclimatize themselves to the       company \n",
    "  ● Hence, the management has contracted an HR analytics firm to understand what factors they should focus on, in order to curb     attrition.  \n",
    "  ● In other words, they want to know what changes they should make to their workplace, in order to get most of their employees     to stay.  \n",
    "  ● Also, they want to know which of these variables is most important and needs to be addressed right away.__   \n"
   ]
  },
  {
   "cell_type": "code",
   "execution_count": 30,
   "metadata": {},
   "outputs": [],
   "source": [
    "import pandas as pd \n",
    "dataframe = pd.read_csv('general_data.csv')\n",
    "df = dataframe[dataframe['Attrition'] == 'Yes']"
   ]
  },
  {
   "cell_type": "markdown",
   "metadata": {},
   "source": [
    "## HYPOTHESIS"
   ]
  },
  {
   "cell_type": "markdown",
   "metadata": {},
   "source": [
    "__1: mean age of employee with attrition is 34__\n",
    "\n",
    "     The population standard deviation was found to 12.\n",
    "     Null Hypothesis     : Ho==34\n",
    "     Alternate Hypothesis: Ha!=34\n",
    "     "
   ]
  },
  {
   "cell_type": "code",
   "execution_count": 31,
   "metadata": {},
   "outputs": [
    {
     "data": {
      "text/plain": [
       "33.607594936708864"
      ]
     },
     "execution_count": 31,
     "metadata": {},
     "output_type": "execute_result"
    }
   ],
   "source": [
    "df['Age'].mean()"
   ]
  },
  {
   "cell_type": "markdown",
   "metadata": {},
   "source": [
    "__2: most of the employee with attrition have 1 year of experience in the company__\n",
    "      \n",
    "     The population standard deviation was found to 12.\n",
    "     Null Hypothesis     : Ho == 1\n",
    "     Alternate Hypothesis: Ha != 1\n",
    " \n"
   ]
  },
  {
   "cell_type": "code",
   "execution_count": 33,
   "metadata": {},
   "outputs": [
    {
     "data": {
      "text/plain": [
       "1     177\n",
       "2      81\n",
       "5      63\n",
       "3      60\n",
       "4      57\n",
       "10     54\n",
       "0      48\n",
       "7      33\n",
       "6      27\n",
       "8      27\n",
       "9      24\n",
       "13      6\n",
       "11      6\n",
       "14      6\n",
       "33      3\n",
       "15      3\n",
       "16      3\n",
       "17      3\n",
       "18      3\n",
       "19      3\n",
       "20      3\n",
       "21      3\n",
       "22      3\n",
       "23      3\n",
       "24      3\n",
       "31      3\n",
       "32      3\n",
       "40      3\n",
       "Name: YearsAtCompany, dtype: int64"
      ]
     },
     "execution_count": 33,
     "metadata": {},
     "output_type": "execute_result"
    }
   ],
   "source": [
    "df['YearsAtCompany'].value_counts()"
   ]
  },
  {
   "cell_type": "markdown",
   "metadata": {},
   "source": [
    "__3: mean income of employee with attrition is 62,000__\n",
    "  \n",
    "     The population standard deviation was found to 12.\n",
    "     Null Hypothesis     : Ho == 62,000\n",
    "     Alternate Hypothesis: Ha != 62,000\n",
    "     "
   ]
  },
  {
   "cell_type": "code",
   "execution_count": 34,
   "metadata": {},
   "outputs": [
    {
     "data": {
      "text/plain": [
       "61682.61603375527"
      ]
     },
     "execution_count": 34,
     "metadata": {},
     "output_type": "execute_result"
    }
   ],
   "source": [
    "df['MonthlyIncome'].mean()"
   ]
  },
  {
   "cell_type": "markdown",
   "metadata": {},
   "source": [
    "__4: most of the employee with attrition are from Research and Development Department__\n",
    "\n",
    "     The population standard deviation was found to 12.\n",
    "     Null Hypothesis     : Ho == \"R&D department\"\n",
    "     Alternate Hypothesis: Ha != \"R&D department\"\n"
   ]
  },
  {
   "cell_type": "code",
   "execution_count": 35,
   "metadata": {},
   "outputs": [
    {
     "data": {
      "text/plain": [
       "Research & Development    453\n",
       "Sales                     201\n",
       "Human Resources            57\n",
       "Name: Department, dtype: int64"
      ]
     },
     "execution_count": 35,
     "metadata": {},
     "output_type": "execute_result"
    }
   ],
   "source": [
    "df['Department'].value_counts()"
   ]
  },
  {
   "cell_type": "markdown",
   "metadata": {},
   "source": [
    "__5: employee attrition as the salaryhike percentage is increased__\n",
    "\n",
    "     The population standard deviation was found to 12.\n",
    "     Null Hypothesis     : Ho == \"percentage salaryhike\"\n",
    "     Alternate Hypothesis: Ha != \"percentage salaryhike\"\n",
    "     \n",
    "     "
   ]
  },
  {
   "cell_type": "code",
   "execution_count": 36,
   "metadata": {},
   "outputs": [
    {
     "data": {
      "text/plain": [
       "13    102\n",
       "12     90\n",
       "11     90\n",
       "14     87\n",
       "15     63\n",
       "17     45\n",
       "19     42\n",
       "18     39\n",
       "22     30\n",
       "16     30\n",
       "21     27\n",
       "20     27\n",
       "25     15\n",
       "23     15\n",
       "24      9\n",
       "Name: PercentSalaryHike, dtype: int64"
      ]
     },
     "execution_count": 36,
     "metadata": {},
     "output_type": "execute_result"
    }
   ],
   "source": [
    "df['PercentSalaryHike'].value_counts()"
   ]
  },
  {
   "cell_type": "markdown",
   "metadata": {},
   "source": [
    "__6: most of the employees with attrition are working in lower job levels__\n",
    "\n",
    "     The population standard deviation was found to 12.\n",
    "     Null Hypothesis     : Ho == \"lower job levels\"\n",
    "     Alternate Hypothesis: Ha != \"lower job levels\"\n",
    "     "
   ]
  },
  {
   "cell_type": "code",
   "execution_count": 37,
   "metadata": {},
   "outputs": [
    {
     "data": {
      "text/plain": [
       "2    285\n",
       "1    252\n",
       "3     96\n",
       "4     51\n",
       "5     27\n",
       "Name: JobLevel, dtype: int64"
      ]
     },
     "execution_count": 37,
     "metadata": {},
     "output_type": "execute_result"
    }
   ],
   "source": [
    "df['JobLevel'].value_counts()"
   ]
  },
  {
   "cell_type": "markdown",
   "metadata": {},
   "source": [
    "__7: most of the employees with attrition are not knowing the manager properly__\n",
    "\n",
    "     The population standard deviation was found to 12.\n",
    "     Null Hypothesis     : Ho == \"less working years with the current manager\"\n",
    "     Alternate Hypothesis: Ha != \"less working years with the current manager\""
   ]
  },
  {
   "cell_type": "code",
   "execution_count": 38,
   "metadata": {},
   "outputs": [
    {
     "data": {
      "text/plain": [
       "0     255\n",
       "2     150\n",
       "7      93\n",
       "3      57\n",
       "4      33\n",
       "1      33\n",
       "8      30\n",
       "9      18\n",
       "6      12\n",
       "5      12\n",
       "10      9\n",
       "14      6\n",
       "11      3\n",
       "Name: YearsWithCurrManager, dtype: int64"
      ]
     },
     "execution_count": 38,
     "metadata": {},
     "output_type": "execute_result"
    }
   ],
   "source": [
    "df['YearsWithCurrManager'].value_counts()"
   ]
  },
  {
   "cell_type": "markdown",
   "metadata": {},
   "source": [
    "__8: most of the employees with attrition are with low stockoption level__\n",
    "\n",
    "     The population standard deviation was found to 12.\n",
    "     Null Hypothesis     : Ho == \"low stockoption level\"\n",
    "     Alternate Hypothesis: Ha != \"low stockoption level\"\n",
    "     "
   ]
  },
  {
   "cell_type": "code",
   "execution_count": 39,
   "metadata": {},
   "outputs": [
    {
     "data": {
      "text/plain": [
       "0    318\n",
       "1    270\n",
       "2     84\n",
       "3     39\n",
       "Name: StockOptionLevel, dtype: int64"
      ]
     },
     "execution_count": 39,
     "metadata": {},
     "output_type": "execute_result"
    }
   ],
   "source": [
    "df['StockOptionLevel'].value_counts()"
   ]
  },
  {
   "cell_type": "markdown",
   "metadata": {},
   "source": [
    "__9: most of the employees with attrition are from medical and life sciences background__ \n",
    "\n",
    "     The population standard deviation was found to 12.\n",
    "     Null Hypothesis     : Ho == \"medical and life science\"\n",
    "     Alternate Hypothesis: Ha != \"medical and life science\"\n",
    "     "
   ]
  },
  {
   "cell_type": "code",
   "execution_count": 40,
   "metadata": {},
   "outputs": [
    {
     "data": {
      "text/plain": [
       "Life Sciences       303\n",
       "Medical             225\n",
       "Marketing            75\n",
       "Technical Degree     45\n",
       "Human Resources      33\n",
       "Other                30\n",
       "Name: EducationField, dtype: int64"
      ]
     },
     "execution_count": 40,
     "metadata": {},
     "output_type": "execute_result"
    }
   ],
   "source": [
    "df['EducationField'].value_counts()"
   ]
  },
  {
   "cell_type": "markdown",
   "metadata": {},
   "source": [
    "__10: by analysis employees with attrition are males compared to females__\n",
    "    \n",
    "    The population standard deviation was found to 12.\n",
    "    Null Hypothesis     : Ho == \"more males\"\n",
    "    Alternate Hypothesis: Ha != \"more males\"  \n",
    "        "
   ]
  },
  {
   "cell_type": "code",
   "execution_count": 41,
   "metadata": {},
   "outputs": [
    {
     "data": {
      "text/plain": [
       "Male      441\n",
       "Female    270\n",
       "Name: Gender, dtype: int64"
      ]
     },
     "execution_count": 41,
     "metadata": {},
     "output_type": "execute_result"
    }
   ],
   "source": [
    "df['Gender'].value_counts()"
   ]
  },
  {
   "cell_type": "code",
   "execution_count": null,
   "metadata": {},
   "outputs": [],
   "source": []
  }
 ],
 "metadata": {
  "kernelspec": {
   "display_name": "Python 3",
   "language": "python",
   "name": "python3"
  },
  "language_info": {
   "codemirror_mode": {
    "name": "ipython",
    "version": 3
   },
   "file_extension": ".py",
   "mimetype": "text/x-python",
   "name": "python",
   "nbconvert_exporter": "python",
   "pygments_lexer": "ipython3",
   "version": "3.7.6"
  },
  "toc": {
   "base_numbering": 1,
   "nav_menu": {},
   "number_sections": true,
   "sideBar": true,
   "skip_h1_title": false,
   "title_cell": "Table of Contents",
   "title_sidebar": "Contents",
   "toc_cell": false,
   "toc_position": {},
   "toc_section_display": true,
   "toc_window_display": false
  }
 },
 "nbformat": 4,
 "nbformat_minor": 4
}
