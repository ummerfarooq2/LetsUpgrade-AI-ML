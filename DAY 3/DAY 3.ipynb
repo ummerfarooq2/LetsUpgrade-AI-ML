{
 "cells": [
  {
   "cell_type": "code",
   "execution_count": 13,
   "metadata": {},
   "outputs": [
    {
     "name": "stdout",
     "output_type": "stream",
     "text": [
      "value of c after addition is (7+9j)\n"
     ]
    }
   ],
   "source": [
    "#Addition of two complex number\n",
    "a = 3+4j\n",
    "b = 4+5j\n",
    "c = a+b\n",
    "print(\"value of c after addition is\",c)"
   ]
  },
  {
   "cell_type": "code",
   "execution_count": 25,
   "metadata": {},
   "outputs": [
    {
     "data": {
      "text/plain": [
       "2.0"
      ]
     },
     "execution_count": 25,
     "metadata": {},
     "output_type": "execute_result"
    }
   ],
   "source": [
    "16**(1/4)"
   ]
  },
  {
   "cell_type": "code",
   "execution_count": 28,
   "metadata": {},
   "outputs": [
    {
     "name": "stdout",
     "output_type": "stream",
     "text": [
      "The value of x after swapping 10\n",
      "The value of y after swapping 5\n"
     ]
    }
   ],
   "source": [
    "# Python program to swap two variables\n",
    "\n",
    "x = 5\n",
    "y = 10\n",
    "\n",
    "# create a temporary variable and swap the values\n",
    "temp = x\n",
    "x = y\n",
    "y = temp\n",
    "\n",
    "print(\"The value of x after swapping\",x)\n",
    "print(\"The value of y after swapping\",y)"
   ]
  },
  {
   "cell_type": "code",
   "execution_count": 30,
   "metadata": {},
   "outputs": [
    {
     "name": "stdout",
     "output_type": "stream",
     "text": [
      "x = 10\n",
      "y = 5\n"
     ]
    }
   ],
   "source": [
    "x = 5\n",
    "y = 10\n",
    "\n",
    "x, y = y, x\n",
    "print(\"x =\", x)\n",
    "print(\"y =\", y)"
   ]
  },
  {
   "cell_type": "code",
   "execution_count": 39,
   "metadata": {},
   "outputs": [
    {
     "name": "stdout",
     "output_type": "stream",
     "text": [
      "Hello World\n",
      "<class 'str'>\n",
      "20\n",
      "<class 'int'>\n",
      "20.5\n",
      "<class 'float'>\n",
      "1j\n",
      "<class 'complex'>\n",
      "['college', 'school']\n",
      "<class 'list'>\n"
     ]
    }
   ],
   "source": [
    "x = \"Hello World\"\n",
    "\n",
    "print(x)\n",
    "\n",
    "print(type(x)) \n",
    "\n",
    "x = 20\n",
    "\n",
    "print(x)\n",
    "print(type(x)) \n",
    "\n",
    "x = 20.5\n",
    "\n",
    "print(x)\n",
    "print(type(x)) \n",
    "\n",
    "x = 1j\n",
    "\n",
    "\n",
    "print(x)\n",
    "print(type(x)) \n",
    "\n",
    "x = [ \"college\", \"school\"]\n",
    "\n",
    "print(x)\n",
    "print(type(x)) \n",
    "\n",
    "\n",
    "\n",
    "\n"
   ]
  },
  {
   "cell_type": "code",
   "execution_count": 45,
   "metadata": {},
   "outputs": [
    {
     "name": "stdout",
     "output_type": "stream",
     "text": [
      "the value of a in celsius= 18.333333333333332\n",
      "the value of a in kelvin= 289.4833333333333\n"
     ]
    }
   ],
   "source": [
    "#if a=65 #in farenheit\n",
    "b = (a-32)*5/9\n",
    "print(\"the value of a in celsius=\",b)\n",
    "c= (a-32)*5/9+271.15\n",
    "print(\"the value of a in kelvin=\",c)"
   ]
  },
  {
   "cell_type": "markdown",
   "metadata": {},
   "source": [
    "////steps to create and upload github assignments\n",
    "CREATING REPOSITARY///\n",
    "\n",
    "go to github.com create github account click on new in repositary give name as \"LetsUpgrade AI/ML\" give description as Assignments and create the repositary\n",
    "\n",
    "SUBMITTING ASSIGNMENT\n",
    "\n",
    "upload the assignment in \"LetsUpgrade AI/ML\" github repositary by keeping the assignment in a folder of respective dates copy the link of the assignment and check wheather it is public or private. after the assignment is public paste the link in google form with appropriate details and submit it"
   ]
  },
  {
   "cell_type": "markdown",
   "metadata": {},
   "source": []
  },
  {
   "cell_type": "markdown",
   "metadata": {},
   "source": []
  }
 ],
 "metadata": {
  "kernelspec": {
   "display_name": "Python 3",
   "language": "python",
   "name": "python3"
  },
  "language_info": {
   "codemirror_mode": {
    "name": "ipython",
    "version": 3
   },
   "file_extension": ".py",
   "mimetype": "text/x-python",
   "name": "python",
   "nbconvert_exporter": "python",
   "pygments_lexer": "ipython3",
   "version": "3.7.6"
  }
 },
 "nbformat": 4,
 "nbformat_minor": 4
}
