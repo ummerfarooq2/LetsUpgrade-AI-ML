{
 "cells": [
  {
   "cell_type": "code",
   "execution_count": 7,
   "metadata": {},
   "outputs": [
    {
     "name": "stdout",
     "output_type": "stream",
     "text": [
      "Enter the real part of c1 =3\n",
      "Enter the imaginary part of c1 =5\n",
      "Enter the real part of c2 =6\n",
      "Enter the imaginary part of c2 =3\n",
      "addition of 2 complex nos is = (9+8j)\n",
      "subtraction of 2 complex nos is = (-3+2j)\n",
      "multiplication of 2 complex nos is = (3+39j)\n",
      "division of 2 complex nos is = (0.7333333333333333+0.4666666666666667j)\n"
     ]
    }
   ],
   "source": [
    "# operations on complex no\n",
    "\n",
    "x = float(input(\"Enter the real part of c1 =\"))\n",
    "y = float(input(\"Enter the imaginary part of c1 =\"))\n",
    "c1 = complex(x,y)\n",
    "\n",
    "a = float(input(\"Enter the real part of c2 =\"))\n",
    "b = float(input(\"Enter the imaginary part of c2 =\"))\n",
    "c2 = complex(a,b)\n",
    "\n",
    "# addition\n",
    "add = c1 + c2\n",
    "print(\"addition of 2 complex nos is =\",add)\n",
    "\n",
    "#subtraction\n",
    "sub = c1 - c2\n",
    "print(\"subtraction of 2 complex nos is =\",sub)\n",
    "\n",
    "#multiplication\n",
    "mul = c1 * c2\n",
    "print(\"multiplication of 2 complex nos is =\",mul)\n",
    "\n",
    "#division\n",
    "div = c1 / c2\n",
    "print(\"division of 2 complex nos is =\",div)\n",
    "\n",
    "#Floor and modulus operators (// and % respectively) are not allowed to be used on complex number in Python 3"
   ]
  },
  {
   "cell_type": "markdown",
   "metadata": {},
   "source": [
    "# range() function\n",
    "**range() function returns a list or sequence of numbers. like ,range(4) = 0,1,2,3,4 .range() function has 3 parameters namely start value, stop value and step value .if the start value parameter is not provided it assumes the starting value to be zero(0)**"
   ]
  },
  {
   "cell_type": "code",
   "execution_count": 17,
   "metadata": {},
   "outputs": [
    {
     "name": "stdout",
     "output_type": "stream",
     "text": [
      "1\n",
      "91\n",
      "181\n",
      "271\n",
      "361\n",
      "451\n",
      "541\n",
      "631\n",
      "721\n",
      "811\n",
      "901\n",
      "991\n"
     ]
    }
   ],
   "source": [
    "for i in range (1,1000,90):\n",
    "    print(i)"
   ]
  },
  {
   "cell_type": "code",
   "execution_count": 9,
   "metadata": {},
   "outputs": [
    {
     "name": "stdout",
     "output_type": "stream",
     "text": [
      "Enter the first no =40\n",
      "Enter the second no =10\n",
      "multiplication of 2 nos is 400.0\n"
     ]
    }
   ],
   "source": [
    "# 3rd question\n",
    "x = float(input(\"Enter the first no =\"))\n",
    "y = float(input(\"Enter the second no =\"))\n",
    "\n",
    "if x-y>25:\n",
    "    print (\"multiplication of 2 nos is\",x*y)\n",
    "else:\n",
    "    print (\"division of 2 nos is\",x/y)"
   ]
  },
  {
   "cell_type": "code",
   "execution_count": 20,
   "metadata": {},
   "outputs": [
    {
     "name": "stdout",
     "output_type": "stream",
     "text": [
      "square of 2 minus 2 is = 2\n",
      "square of 4 minus 2 is = 14\n",
      "square of 6 minus 2 is = 34\n",
      "square of 8 minus 2 is = 62\n",
      "square of 10 minus 2 is = 98\n"
     ]
    }
   ],
   "source": [
    "\n",
    "# 4th question\n",
    "a = [1,2,3,4,5,6,7,8,9,10]\n",
    "for i in a:\n",
    "    if i%2==0:\n",
    "        print(\"square of\",i ,\"minus 2 is =\",(i**2)-2)"
   ]
  },
  {
   "cell_type": "code",
   "execution_count": 21,
   "metadata": {},
   "outputs": [
    {
     "name": "stdout",
     "output_type": "stream",
     "text": [
      "division of  20 by 2 is greater than 7 \n",
      "division of  30 by 2 is greater than 7 \n",
      "division of  40 by 2 is greater than 7 \n",
      "division of  50 by 2 is greater than 7 \n",
      "division of  60 by 2 is greater than 7 \n",
      "division of  70 by 2 is greater than 7 \n",
      "division of  80 by 2 is greater than 7 \n",
      "division of  90 by 2 is greater than 7 \n",
      "division of  100 by 2 is greater than 7 \n"
     ]
    }
   ],
   "source": [
    "# 5th question\n",
    "A = [10,20,30,40,50,60,70,80,90,100]\n",
    "for i in A:\n",
    "    if i/2 > 7:\n",
    "        print(\"division of \",i,\"by 2 is greater than 7 \")"
   ]
  },
  {
   "cell_type": "code",
   "execution_count": null,
   "metadata": {},
   "outputs": [],
   "source": []
  }
 ],
 "metadata": {
  "kernelspec": {
   "display_name": "Python 3",
   "language": "python",
   "name": "python3"
  },
  "language_info": {
   "codemirror_mode": {
    "name": "ipython",
    "version": 3
   },
   "file_extension": ".py",
   "mimetype": "text/x-python",
   "name": "python",
   "nbconvert_exporter": "python",
   "pygments_lexer": "ipython3",
   "version": "3.7.6"
  }
 },
 "nbformat": 4,
 "nbformat_minor": 4
}
